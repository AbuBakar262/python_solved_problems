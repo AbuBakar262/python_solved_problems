{
 "cells": [
  {
   "cell_type": "code",
   "execution_count": 8,
   "metadata": {
    "collapsed": true
   },
   "outputs": [
    {
     "name": "stdout",
     "output_type": "stream",
     "text": [
      "['Abu', 'Bakar']\n"
     ]
    }
   ],
   "source": [
    "# Split() Functions turns string into list or array\n",
    "\n",
    "name = 'Abu Bakar'\n",
    "\n",
    "print(name.split())"
   ]
  },
  {
   "cell_type": "code",
   "execution_count": 7,
   "outputs": [
    {
     "name": "stdout",
     "output_type": "stream",
     "text": [
      "<map object at 0x7f2ad75baa00>\n",
      "[1, 4, 9, 16, 25]\n"
     ]
    }
   ],
   "source": [
    "# Map Function maps the function and number or string to execute in one line\n",
    "numbers = [1, 2, 3, 4, 5]\n",
    "\n",
    "def square(x):\n",
    "    return x*x\n",
    "\n",
    "print(map(square, numbers))\n",
    "print(list(map(square, numbers)))"
   ],
   "metadata": {
    "collapsed": false
   }
  },
  {
   "cell_type": "code",
   "execution_count": 6,
   "outputs": [
    {
     "name": "stdout",
     "output_type": "stream",
     "text": [
      "[2, 4]\n"
     ]
    }
   ],
   "source": [
    "# Filter Function\n",
    "\n",
    "numbers = [1, 2, 3, 4, 5]\n",
    "\n",
    "def check_even(x):\n",
    "    if x%2==0:\n",
    "        return True\n",
    "    return False\n",
    "\n",
    "print(list(filter(check_even, numbers)))"
   ],
   "metadata": {
    "collapsed": false
   }
  },
  {
   "cell_type": "code",
   "execution_count": 21,
   "outputs": [
    {
     "name": "stdout",
     "output_type": "stream",
     "text": [
      "Sum of nums =  15\n",
      "Product of nums =  120\n"
     ]
    }
   ],
   "source": [
    "# functools + operator module with reduce() function\n",
    "\n",
    "import functools\n",
    "import operator\n",
    "\n",
    "nums = [1, 2, 3, 4, 5]\n",
    "\n",
    "print(\"Sum of nums = \", functools.reduce(operator.add, nums))\n",
    "print(\"Product of nums = \", functools.reduce(operator.mul, nums))"
   ],
   "metadata": {
    "collapsed": false
   }
  },
  {
   "cell_type": "code",
   "execution_count": 25,
   "outputs": [
    {
     "name": "stdout",
     "output_type": "stream",
     "text": [
      "20\n",
      "100\n"
     ]
    }
   ],
   "source": [
    "# High Order Function  =>  ( passing function as parameter )\n",
    "\n",
    "def addition(x):\n",
    "    return x + x\n",
    "\n",
    "\n",
    "def multiplication(x):\n",
    "    return x * x\n",
    "\n",
    "\n",
    "# function passes as parameter....\n",
    "def high_order_func(func, a):\n",
    "    result = func(a)\n",
    "    return result\n",
    "\n",
    "# function passed as argument....\n",
    "res1 = high_order_func(addition, 10)\n",
    "print(res1)\n",
    "\n",
    "res2 = high_order_func(multiplication, 10)\n",
    "print(res2)"
   ],
   "metadata": {
    "collapsed": false
   }
  },
  {
   "cell_type": "code",
   "execution_count": 29,
   "outputs": [
    {
     "name": "stdout",
     "output_type": "stream",
     "text": [
      "10\n"
     ]
    }
   ],
   "source": [
    "# High Order Function  =>  ( return a function as output )\n",
    "\n",
    "def high_order_func(str1, x):\n",
    "    def addition():\n",
    "        if str1 == 'Add':\n",
    "            return x + x\n",
    "        elif str1 == 'Mul':\n",
    "            return x * x\n",
    "    return addition\n",
    "\n",
    "res = high_order_func('Add',5)\n",
    "print(res())"
   ],
   "metadata": {
    "collapsed": false
   }
  },
  {
   "cell_type": "code",
   "execution_count": 38,
   "outputs": [
    {
     "name": "stdout",
     "output_type": "stream",
     "text": [
      "Local\n"
     ]
    }
   ],
   "source": [
    "# checking global after same named local variable declared with different value\n",
    "\n",
    "str = 'Global'\n",
    "\n",
    "def check():\n",
    "    str = 'Local'\n",
    "    return str\n",
    "\n",
    "a = check()\n",
    "print(a)"
   ],
   "metadata": {
    "collapsed": false
   }
  },
  {
   "cell_type": "code",
   "execution_count": 1,
   "outputs": [
    {
     "name": "stdout",
     "output_type": "stream",
     "text": [
      "Empty DataFrame\n",
      "Columns: []\n",
      "Index: []\n"
     ]
    }
   ],
   "source": [
    "import pandas as pd\n",
    "\n",
    "data_frame = pd.DataFrame()\n",
    "\n",
    "username = [\"AbuBakar\", \"Hasnain\", \"Umar\"]\n",
    "email = [\"ab@gmail.com\", \"ha@gmail.com\", \"um@gmail.com\"]\n",
    "\n",
    "print(data_frame)"
   ],
   "metadata": {
    "collapsed": false
   }
  },
  {
   "cell_type": "code",
   "execution_count": null,
   "outputs": [],
   "source": [],
   "metadata": {
    "collapsed": false
   }
  },
  {
   "cell_type": "code",
   "execution_count": 17,
   "outputs": [
    {
     "name": "stdout",
     "output_type": "stream",
     "text": [
      "<countryinfo.countryinfo.CountryInfo object at 0x7f2ad58da250>\n",
      "['EGY', 'JOR', 'LBN', 'SYR']\n"
     ]
    }
   ],
   "source": [
    "from countryinfo import CountryInfo\n",
    "\n",
    "country = CountryInfo(\"Pakistan\")\n",
    "print(country)\n",
    "\n",
    "provinces = country.borders()\n",
    "print(provinces)"
   ],
   "metadata": {
    "collapsed": false
   }
  },
  {
   "cell_type": "code",
   "execution_count": 6,
   "outputs": [],
   "source": [],
   "metadata": {
    "collapsed": false
   }
  }
 ],
 "metadata": {
  "kernelspec": {
   "display_name": "Python 3",
   "language": "python",
   "name": "python3"
  },
  "language_info": {
   "codemirror_mode": {
    "name": "ipython",
    "version": 2
   },
   "file_extension": ".py",
   "mimetype": "text/x-python",
   "name": "python",
   "nbconvert_exporter": "python",
   "pygments_lexer": "ipython2",
   "version": "2.7.6"
  }
 },
 "nbformat": 4,
 "nbformat_minor": 0
}
