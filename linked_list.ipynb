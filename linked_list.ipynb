{
 "cells": [
  {
   "cell_type": "code",
   "execution_count": 8,
   "metadata": {
    "collapsed": true
   },
   "outputs": [],
   "source": [
    "class Node:\n",
    "    def __init__(self, data=None):\n",
    "        self.val = data\n",
    "        self.next = None\n",
    "\n",
    "\n",
    "class LinkedList:\n",
    "    def __init__(self):\n",
    "        self.head = None"
   ]
  },
  {
   "cell_type": "code",
   "execution_count": 9,
   "outputs": [],
   "source": [
    "def push(self, val):\n",
    "    new_node = Node(val)\n",
    "    if self.head is None:\n",
    "        print(\"Execute 1st Case\")\n",
    "        self.head = new_node\n",
    "        return\n",
    "    print(\"Execute 2nd Case\")\n",
    "    last = self.head\n",
    "    while last.next is not None:\n",
    "        last = last.next\n",
    "    last.next = new_node\n",
    "\n",
    "\n",
    "LinkedList.push = push   # Adding Function / Method into a class. Now this function is the part of LinkedList Class."
   ],
   "metadata": {
    "collapsed": false
   }
  },
  {
   "cell_type": "code",
   "execution_count": 10,
   "outputs": [],
   "source": [
    "def __str__(self):\n",
    "    ret_str = '['\n",
    "    temp =self.head\n",
    "    while temp is not None:\n",
    "        ret_str += str(temp.val) + ', '\n",
    "        temp = temp.next\n",
    "\n",
    "    ret_str = ret_str.strip(', ')\n",
    "    ret_str += ']'\n",
    "    return ret_str\n",
    "\n",
    "LinkedList.__str__ = __str__"
   ],
   "metadata": {
    "collapsed": false
   }
  },
  {
   "cell_type": "code",
   "execution_count": 11,
   "outputs": [],
   "source": [
    "def pop(self):\n",
    "    # Case when there is Node or Head\n",
    "    if self.head is None:\n",
    "        print(\"Case 0 Executed\")\n",
    "        raise Exception('Cannot pop value')\n",
    "    # Case when there is exactly 1 Node\n",
    "    if self.head.next is None:\n",
    "        print(\"Case 1 Executed\")\n",
    "        val = self.head.val\n",
    "        self.head = None\n",
    "        return val\n",
    "    print(\"Case 2 Executed\")\n",
    "    temp = self.head\n",
    "    while temp.next is not None:\n",
    "        prev = temp\n",
    "        temp = temp.next\n",
    "    val = temp.val\n",
    "    prev.next = None\n",
    "    return val\n",
    "\n",
    "LinkedList.pop = pop"
   ],
   "metadata": {
    "collapsed": false
   }
  },
  {
   "cell_type": "code",
   "execution_count": null,
   "outputs": [],
   "source": [
    "def insert(self, index, val):\n",
    "    # New node which is to be inserted...\n",
    "    new_node = Node(val)\n",
    "\n",
    "    if index == 0:\n",
    "        new_node.next = self.head\n",
    "        self.head = new_node\n",
    "        return\n",
    "\n",
    "\n",
    "    temp = self.head\n",
    "    counter = 0\n",
    "    while temp is not None and counter < index:\n",
    "        prev = temp\n",
    "        temp = temp.next\n",
    "        counter +=1\n",
    "\n",
    "\n",
    "    prev.next = new_node\n",
    "    new_node.next = temp\n",
    "\n",
    "\n",
    "LinkedList.insert = insert"
   ],
   "metadata": {
    "collapsed": false
   }
  },
  {
   "cell_type": "code",
   "execution_count": 14,
   "outputs": [],
   "source": [
    "def remove(self, val):\n",
    "    temp = self.head\n",
    "\n",
    "    if temp is not None:\n",
    "        if temp.val == val:\n",
    "            self.head = temp.next\n",
    "            temp = None\n",
    "            return\n",
    "\n",
    "    while temp is not None:\n",
    "        if temp.val == val:\n",
    "            break\n",
    "\n",
    "        prev = temp\n",
    "        temp = temp.next\n",
    "\n",
    "    if temp is None:\n",
    "        return\n",
    "    prev.next = temp.next\n",
    "\n",
    "LinkedList.remove = remove"
   ],
   "metadata": {
    "collapsed": false
   }
  },
  {
   "cell_type": "code",
   "execution_count": 16,
   "outputs": [
    {
     "name": "stdout",
     "output_type": "stream",
     "text": [
      "Execute 1st Case\n",
      "Execute 2nd Case\n",
      "Execute 2nd Case\n",
      "Execute 2nd Case\n",
      "Case 2 Executed\n",
      "[1, 2, 4, 6]\n"
     ]
    }
   ],
   "source": [
    "l = LinkedList()\n",
    "l.push(1)\n",
    "l.push(2)\n",
    "l.push(3)\n",
    "l.push(4)\n",
    "l.pop()\n",
    "l.insert(3, 4)\n",
    "l.insert(5,6)\n",
    "l.remove(3)\n",
    "print(l)"
   ],
   "metadata": {
    "collapsed": false
   }
  },
  {
   "cell_type": "code",
   "execution_count": 6,
   "outputs": [
    {
     "name": "stdout",
     "output_type": "stream",
     "text": [
      "1e-07\n"
     ]
    }
   ],
   "source": [
    "print(float(1e-7))"
   ],
   "metadata": {
    "collapsed": false
   }
  },
  {
   "cell_type": "code",
   "execution_count": 9,
   "outputs": [
    {
     "data": {
      "text/plain": "1e-06"
     },
     "execution_count": 9,
     "metadata": {},
     "output_type": "execute_result"
    }
   ],
   "source": [
    "num = 1e-7\n",
    "\n",
    "if 'e' in num:\n"
   ],
   "metadata": {
    "collapsed": false
   }
  },
  {
   "cell_type": "code",
   "execution_count": null,
   "outputs": [],
   "source": [],
   "metadata": {
    "collapsed": false
   }
  }
 ],
 "metadata": {
  "kernelspec": {
   "display_name": "Python 3",
   "language": "python",
   "name": "python3"
  },
  "language_info": {
   "codemirror_mode": {
    "name": "ipython",
    "version": 2
   },
   "file_extension": ".py",
   "mimetype": "text/x-python",
   "name": "python",
   "nbconvert_exporter": "python",
   "pygments_lexer": "ipython2",
   "version": "2.7.6"
  }
 },
 "nbformat": 4,
 "nbformat_minor": 0
}
