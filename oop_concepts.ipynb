{
 "cells": [
  {
   "cell_type": "code",
   "execution_count": 2,
   "metadata": {
    "collapsed": true
   },
   "outputs": [
    {
     "name": "stdout",
     "output_type": "stream",
     "text": [
      "BLu is bird\n",
      "Woo is also bird\n",
      "Blu is 15 years old\n",
      "Woo is 23 years old\n"
     ]
    }
   ],
   "source": [
    "# CLASS\n",
    "\n",
    "class Parrot:\n",
    "    pass\n",
    "\n",
    "# OBJECT OF CLASS\n",
    "obj = Parrot()\n",
    "\n",
    "# CREATING CLASS AND OBJECT\n",
    "class Parrot:\n",
    "    species = 'bird'\n",
    "\n",
    "    def __init__(self, name, age):\n",
    "        self.name = name\n",
    "        self.age = age\n",
    "\n",
    "blu = Parrot(\"Blu\", 15)\n",
    "woo = Parrot(\"Woo\", 23)\n",
    "\n",
    "# access the class attributes\n",
    "print(\"BLu is {}\".format(blu.__class__.species))\n",
    "print(\"Woo is also {}\".format(woo.__class__.species))\n",
    "\n",
    "# access the class instance attributes\n",
    "print(\"{} is {} years old\".format(blu.name, blu.age))\n",
    "print(\"{} is {} years old\".format(woo.name, woo.age))"
   ]
  },
  {
   "cell_type": "code",
   "execution_count": 3,
   "outputs": [
    {
     "name": "stdout",
     "output_type": "stream",
     "text": [
      "Bird is Ready!\n",
      "Penguin is also Ready!\n",
      "I am Penguin\n",
      "Fly Higher\n",
      "Run Faster\n"
     ]
    }
   ],
   "source": [
    "                                                    #  Inheritance\n",
    "# parent class\n",
    "class Bird:\n",
    "    def __init__(self):\n",
    "        print(\"Bird is Ready!\")\n",
    "\n",
    "    def who_is_this(self):\n",
    "        print(\"I am Bird\")\n",
    "\n",
    "    def fly(self):\n",
    "        print(\"Fly Higher\")\n",
    "\n",
    "\n",
    "# child class\n",
    "class Penguin(Bird):\n",
    "    def __init__(self):\n",
    "        # calling super() function to get instance of the parent class\n",
    "        super().__init__()\n",
    "        print(\"Penguin is also Ready!\")\n",
    "\n",
    "    def who_is_this(self):\n",
    "        print(\"I am Penguin\")\n",
    "\n",
    "    def run(self):\n",
    "        print(\"Run Faster\")\n",
    "\n",
    "\n",
    "obj = Penguin()\n",
    "obj.who_is_this()\n",
    "obj.fly()\n",
    "obj.run()"
   ],
   "metadata": {
    "collapsed": false
   }
  },
  {
   "cell_type": "code",
   "execution_count": 4,
   "outputs": [
    {
     "name": "stdout",
     "output_type": "stream",
     "text": [
      "Selling Price 1000\n",
      "Selling Price 1000\n",
      "Selling Price 500\n"
     ]
    }
   ],
   "source": [
    "                                                # Encapsulation\n",
    "class Computer:\n",
    "    def __init__(self):\n",
    "        self.__maxprice = 1000\n",
    "\n",
    "    def sell(self):\n",
    "        print(\"Selling Price {}\".format(self.__maxprice))\n",
    "\n",
    "    def setMaxPrice(self, price):\n",
    "        self.__maxprice = price\n",
    "\n",
    "\n",
    "c = Computer()\n",
    "c.sell()\n",
    "\n",
    "# change the price\n",
    "c.__maxprice = 500\n",
    "c.sell()\n",
    "\n",
    "# using setter function()\n",
    "c.setMaxPrice(500)\n",
    "c.sell()"
   ],
   "metadata": {
    "collapsed": false
   }
  },
  {
   "cell_type": "code",
   "execution_count": 5,
   "outputs": [
    {
     "name": "stdout",
     "output_type": "stream",
     "text": [
      "Pikachu: Electric Shock\n",
      "Pikachu: Iron Tail\n",
      "Charmender: Blaze\n",
      "Charmender: Breathe Fire\n"
     ]
    }
   ],
   "source": [
    "                                            # Polymorphism\n",
    "class Pikachu:\n",
    "    def ability(self):\n",
    "        print(\"Pikachu: Electric Shock\")\n",
    "\n",
    "    def rare_ability(self):\n",
    "        print(\"Pikachu: Iron Tail\")\n",
    "\n",
    "\n",
    "class Charmender:\n",
    "    def ability(self):\n",
    "        print(\"Charmender: Blaze\")\n",
    "\n",
    "    def rare_ability(self):\n",
    "        print(\"Charmender: Breathe Fire\")\n",
    "\n",
    "\n",
    "pika = Pikachu()\n",
    "charm = Charmender()\n",
    "\n",
    "pika.ability()\n",
    "pika.rare_ability()\n",
    "\n",
    "charm.ability()\n",
    "charm.rare_ability()"
   ],
   "metadata": {
    "collapsed": false
   }
  },
  {
   "cell_type": "code",
   "execution_count": 1,
   "outputs": [
    {
     "name": "stdout",
     "output_type": "stream",
     "text": [
      "Socket Created Successfully\n",
      "Socket Has Successfully Connected To Google\n"
     ]
    }
   ],
   "source": [
    "                                                # Socket Programming\n",
    "import socket\n",
    "import sys\n",
    "\n",
    "try:\n",
    "    s = socket.socket(socket.AF_INET, socket.SOCK_STREAM)\n",
    "    print(\"Socket Created Successfully\")\n",
    "except socket.error as err:\n",
    "    print(\"Socket Creation Failed With Error %s\" %(err))\n",
    "\n",
    "port=80\n",
    "\n",
    "try:\n",
    "    host_ip = socket.gethostbyname(\"www.google.com\")\n",
    "except socket.gaierror:\n",
    "    print(\"There Was An Error Resolving The Host\")\n",
    "    sys.exit()\n",
    "\n",
    "s.connect((host_ip, port))\n",
    "\n",
    "print(\"Socket Has Successfully Connected To Google\")"
   ],
   "metadata": {
    "collapsed": false
   }
  },
  {
   "cell_type": "code",
   "execution_count": null,
   "outputs": [],
   "source": [],
   "metadata": {
    "collapsed": false
   }
  }
 ],
 "metadata": {
  "kernelspec": {
   "display_name": "Python 3",
   "language": "python",
   "name": "python3"
  },
  "language_info": {
   "codemirror_mode": {
    "name": "ipython",
    "version": 2
   },
   "file_extension": ".py",
   "mimetype": "text/x-python",
   "name": "python",
   "nbconvert_exporter": "python",
   "pygments_lexer": "ipython2",
   "version": "2.7.6"
  }
 },
 "nbformat": 4,
 "nbformat_minor": 0
}
